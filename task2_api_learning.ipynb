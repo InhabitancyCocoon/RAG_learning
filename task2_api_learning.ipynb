{
 "cells": [
  {
   "cell_type": "code",
   "execution_count": 1,
   "metadata": {},
   "outputs": [],
   "source": [
    "import time\n",
    "import jwt\n",
    "import requests\n",
    "from numpy import dot\n",
    "from numpy.linalg import norm\n",
    "\n",
    "\n",
    "KEY = '83e5bc58555d8bac289e27bac50f8afc.Khk1JjCxb8MJN8Mi'\n",
    "\n",
    "# 实际KEY，过期时间\n",
    "\n",
    "\n",
    "def generate_token(apikey: str, exp_seconds: int):\n",
    "    try:\n",
    "        id, secret = apikey.split('.')\n",
    "    except Exception as e:\n",
    "        raise Exception('invalid apikey', e)\n",
    "\n",
    "    payload = {\n",
    "        'api_key': id,\n",
    "        'exp': int(round(time.time() * 1000)) + exp_seconds * 1000,\n",
    "        'timestamp': int(round(time.time() * 1000)),\n",
    "    }\n",
    "    return jwt.encode(\n",
    "        payload,\n",
    "        secret,\n",
    "        algorithm='HS256',\n",
    "        headers={'alg': 'HS256', 'sign_type': 'SIGN'},\n",
    "    )"
   ]
  },
  {
   "cell_type": "code",
   "execution_count": 5,
   "metadata": {},
   "outputs": [],
   "source": [
    "# api call: conversation\n",
    "\n",
    "\n",
    "url = 'https://open.bigmodel.cn/api/paas/v4/chat/completions'\n",
    "headers = {\n",
    "    'Content-Type': 'application/json',\n",
    "    'Authorization': generate_token(KEY, 1000)\n",
    "}"
   ]
  },
  {
   "cell_type": "code",
   "execution_count": 6,
   "metadata": {},
   "outputs": [
    {
     "data": {
      "text/plain": [
       "{'choices': [{'finish_reason': 'stop',\n",
       "   'index': 0,\n",
       "   'message': {'content': '中国地域辽阔，气候多样，冬季时，气温差异显著，有些城市会出现严寒天气。以下是几个冬天很冷的中国城市：\\n\\n1. 根河市（内蒙古自治区呼伦贝尔市）：位于中国的最北端，冬季非常寒冷，历史最低气温达到零下58.3摄氏度，有“中国冷极”之称。\\n\\n2. 牙克石市（内蒙古自治区呼伦贝尔市）：同样属于呼伦贝尔地区，冬季气温极低，曾记录最低气温零下52.3摄氏度，有“冰雪之乡”的美誉。\\n\\n3. 漠河市（黑龙江省）：位于大兴安岭北部，是中国纬度最高的县，冬季漫长且寒冷，最低气温可达零下40摄氏度左右。\\n\\n4. 呼玛县（黑龙江省）：属于大兴安岭地区，冬季气温同样较低，积雪时间长，最低气温也曾达到零下50.2摄氏度。\\n\\n这些城市由于所处的纬度较高，海拔一般也较高，加上冬季风的影响，导致冬季气温非常低。居民生活和工作在这些地方，都需要采取相应的防寒措施来应对寒冷的气候。',\n",
       "    'role': 'assistant'}}],\n",
       " 'created': 1707053676,\n",
       " 'id': '8356096403314691413',\n",
       " 'model': 'glm-3-turbo',\n",
       " 'request_id': '8356096403314691413',\n",
       " 'usage': {'completion_tokens': 247,\n",
       "  'prompt_tokens': 777,\n",
       "  'total_tokens': 1024}}"
      ]
     },
     "execution_count": 6,
     "metadata": {},
     "output_type": "execute_result"
    }
   ],
   "source": [
    "data = {\n",
    "    'model': 'glm-3-turbo',\n",
    "    'messages': [{'role': 'user', 'content': '请列举一些冬天很冷的城市。'}]\n",
    "}\n",
    "\n",
    "requests.post(url, headers=headers, json=data).json()"
   ]
  },
  {
   "cell_type": "code",
   "execution_count": 7,
   "metadata": {},
   "outputs": [
    {
     "data": {
      "text/plain": [
       "{'choices': [{'finish_reason': 'stop',\n",
       "   'index': 0,\n",
       "   'message': {'content': '以下是一些国外冬天很冷的城市：\\n\\n1. 奥伊米亚康（Oymyakon）（俄罗斯）：位于西伯利亚，曾记录过最低气温零下71.2摄氏度，是世界上最冷的城市之一。\\n\\n2. 牙买加（Yakutsk）（俄罗斯）：同样位于西伯利亚，冬季气温极低，最低可达到零下60摄氏度。\\n\\n3. 惠蒂尔（Whittier）（美国阿拉斯加）：由于地理位置独特，冬季气温常年在零下，被称为“冰雪之城”。\\n\\n4. 雷克雅未克（Reykjavik）（冰岛）：虽然冰岛的首都雷克雅未克冬季气温不是世界上最低的，但由于其靠近北极圈，冬季依然寒冷且多风。\\n\\n5. 长白云（Longyearbyen）（挪威）：位于斯瓦尔巴群岛，是地球上最北的永久居住点之一，冬季气温可达零下50摄氏度。\\n\\n6. 惠灵顿（Wellington）（新西兰）：新西兰的首都惠灵顿位于南半球，冬季气温较为温和，但有时也会降到零下。\\n\\n这些城市的冬季气温较低，居民生活和工作在这些地方，都需要采取相应的防寒措施来应对寒冷的气候。',\n",
       "    'role': 'assistant'}}],\n",
       " 'created': 1707053806,\n",
       " 'id': '8356086404630395714',\n",
       " 'model': 'glm-3-turbo',\n",
       " 'request_id': '8356086404630395714',\n",
       " 'usage': {'completion_tokens': 277,\n",
       "  'prompt_tokens': 2426,\n",
       "  'total_tokens': 2703}}"
      ]
     },
     "execution_count": 7,
     "metadata": {},
     "output_type": "execute_result"
    }
   ],
   "source": [
    "data = {\n",
    "    'model': 'glm-3-turbo',\n",
    "    'messages': [{'role': 'user', 'content': '请列举一些冬天很冷的城市。'}, \n",
    "                 {'content': '中国地域辽阔，气候多样，冬季时，气温差异显著，有些城市会出现严寒天气。以下是几个冬天很冷的中国城市：\\n\\n1. 根河市（内蒙古自治区呼伦贝尔市）：位于中国的最北端，冬季非常寒冷，历史最低气温达到零下58.3摄氏度，有“中国冷极”之称。\\n\\n2. 牙克石市（内蒙古自治区呼伦贝尔市）：同样属于呼伦贝尔地区，冬季气温极低，曾记录最低气温零下52.3摄氏度，有“冰雪之乡”的美誉。\\n\\n3. 漠河市（黑龙江省）：位于大兴安岭北部，是中国纬度最高的县，冬季漫长且寒冷，最低气温可达零下40摄氏度左右。\\n\\n4. 呼玛县（黑龙江省）：属于大兴安岭地区，冬季气温同样较低，积雪时间长，最低气温也曾达到零下50.2摄氏度。\\n\\n这些城市由于所处的纬度较高，海拔一般也较高，加上冬季风的影响，导致冬季气温非常低。居民生活和工作在这些地方，都需要采取相应的防寒措施来应对寒冷的气候。',\n",
    "                                                                'role': 'assistant'},\n",
    "                 {'role': 'user', 'content': '请列举国外的城市。'}]\n",
    "}\n",
    "\n",
    "requests.post(url, headers=headers, json=data).json()\n"
   ]
  },
  {
   "cell_type": "code",
   "execution_count": 8,
   "metadata": {},
   "outputs": [
    {
     "data": {
      "text/plain": [
       "{'choices': [{'finish_reason': 'stop',\n",
       "   'index': 0,\n",
       "   'message': {'content': '从我列举的城市中，最适合旅游的城市可能是雷克雅未克（Reykjavik），冰岛的首都。以下是一些可能的原因：\\n\\n1. 独特的地理特征：雷克雅未克位于冰岛西部，地处北极圈附近，是世界上最北的首都之一。城市周围环绕着冰川、火山和温泉，这些独特的地理特征使得雷克雅未克成为一个非常有趣和独特的旅游目的地。\\n\\n2. 文化历史：雷克雅未克有着丰富的历史文化，包括古老的民间传说、诗歌、音乐和舞蹈等。此外，城市内有许多博物馆、画廊和展览，展示了冰岛的自然和历史。\\n\\n3. 美食：雷克雅未克的美食文化也非常独特，提供了各种新鲜的海鲜、羊肉和当地特色料理，如发酵鲨鱼肉和羊肉汤等。\\n\\n4. 旅游基础设施：雷克雅未克是一个现代化的城市，拥有良好的旅游基础设施，包括酒店、餐厅、购物中心和交通等，使得游客能够轻松地探索城市和周边地区。\\n\\n当然，最适合旅游的城市取决于个人的旅游偏好和需求。其他城市如奥伊米亚康、牙买加和惠灵顿等，也有其独特的魅力和价值，可能更适合喜欢探险和体验当地文化的游客。',\n",
       "    'role': 'assistant'}}],\n",
       " 'created': 1707053968,\n",
       " 'id': '8356086404630377501',\n",
       " 'model': 'glm-3-turbo',\n",
       " 'request_id': '8356086404630377501',\n",
       " 'usage': {'completion_tokens': 269,\n",
       "  'prompt_tokens': 4256,\n",
       "  'total_tokens': 4525}}"
      ]
     },
     "execution_count": 8,
     "metadata": {},
     "output_type": "execute_result"
    }
   ],
   "source": [
    "data = {\n",
    "    'model': 'glm-3-turbo',\n",
    "    'messages': [{'role': 'user', 'content': '请列举一些冬天很冷的城市。'}, \n",
    "                 {'content': '中国地域辽阔，气候多样，冬季时，气温差异显著，有些城市会出现严寒天气。以下是几个冬天很冷的中国城市：\\n\\n1. 根河市（内蒙古自治区呼伦贝尔市）：位于中国的最北端，冬季非常寒冷，历史最低气温达到零下58.3摄氏度，有“中国冷极”之称。\\n\\n2. 牙克石市（内蒙古自治区呼伦贝尔市）：同样属于呼伦贝尔地区，冬季气温极低，曾记录最低气温零下52.3摄氏度，有“冰雪之乡”的美誉。\\n\\n3. 漠河市（黑龙江省）：位于大兴安岭北部，是中国纬度最高的县，冬季漫长且寒冷，最低气温可达零下40摄氏度左右。\\n\\n4. 呼玛县（黑龙江省）：属于大兴安岭地区，冬季气温同样较低，积雪时间长，最低气温也曾达到零下50.2摄氏度。\\n\\n这些城市由于所处的纬度较高，海拔一般也较高，加上冬季风的影响，导致冬季气温非常低。居民生活和工作在这些地方，都需要采取相应的防寒措施来应对寒冷的气候。',\n",
    "                                                                'role': 'assistant'},\n",
    "                 {'role': 'user', 'content': '请列举国外的城市。'},\n",
    "                 {'content': '以下是一些国外冬天很冷的城市：\\n\\n1. 奥伊米亚康（Oymyakon）（俄罗斯）：位于西伯利亚，曾记录过最低气温零下71.2摄氏度，是世界上最冷的城市之一。\\n\\n2. 牙买加（Yakutsk）（俄罗斯）：同样位于西伯利亚，冬季气温极低，最低可达到零下60摄氏度。\\n\\n3. 惠蒂尔（Whittier）（美国阿拉斯加）：由于地理位置独特，冬季气温常年在零下，被称为“冰雪之城”。\\n\\n4. 雷克雅未克（Reykjavik）（冰岛）：虽然冰岛的首都雷克雅未克冬季气温不是世界上最低的，但由于其靠近北极圈，冬季依然寒冷且多风。\\n\\n5. 长白云（Longyearbyen）（挪威）：位于斯瓦尔巴群岛，是地球上最北的永久居住点之一，冬季气温可达零下50摄氏度。\\n\\n6. 惠灵顿（Wellington）（新西兰）：新西兰的首都惠灵顿位于南半球，冬季气温较为温和，但有时也会降到零下。\\n\\n这些城市的冬季气温较低，居民生活和工作在这些地方，都需要采取相应的防寒措施来应对寒冷的气候。',\n",
    "    'role': 'assistant'},\n",
    "                {'role': 'user', 'content': '从你列举的城市中，选出最适合旅游的城市，给出原因。'}\n",
    "                 ]\n",
    "}\n",
    "\n",
    "requests.post(url, headers=headers, json=data).json()"
   ]
  },
  {
   "cell_type": "code",
   "execution_count": 9,
   "metadata": {},
   "outputs": [],
   "source": [
    "# 调用了很多次一直没成功进行多轮对话，看github issue才知道要把历史对话也放进message里。"
   ]
  },
  {
   "cell_type": "code",
   "execution_count": 10,
   "metadata": {},
   "outputs": [],
   "source": [
    "# api call: embedding\n",
    "\n",
    "\n",
    "def compute_cos_sim(x, y):\n",
    "    return dot(x, y) / (norm(x) * norm(y))\n",
    "\n",
    "\n",
    "url = 'https://open.bigmodel.cn/api/paas/v4/embeddings'\n",
    "\n",
    "headers = {\n",
    "    'Content-Type': 'application/json',\n",
    "    'Authorization': generate_token(KEY, 1000)\n",
    "}"
   ]
  },
  {
   "cell_type": "code",
   "execution_count": 12,
   "metadata": {},
   "outputs": [
    {
     "name": "stdout",
     "output_type": "stream",
     "text": [
      "<class 'list'> 1024\n",
      "0.8033899017666866\n",
      "0.7648316266287223\n",
      "0.607331667707236\n"
     ]
    }
   ],
   "source": [
    "data_1 = {\n",
    "    'model': 'embedding-2',\n",
    "    'input': '冬天会下雪。'\n",
    "}\n",
    "embedding_1 = requests.post(url, headers=headers, json=data_1).json()['data'][0]['embedding']\n",
    "\n",
    "\n",
    "data_2 = {\n",
    "    'model': 'embedding-2',\n",
    "    'input': '下雪的时候往往是冬天。'\n",
    "}\n",
    "embedding_2 = requests.post(url, headers=headers, json=data_2).json()['data'][0]['embedding']\n",
    "\n",
    "\n",
    "data_3 = {\n",
    "    'model': 'embedding-2',\n",
    "    'input': '夏天不会下雪'\n",
    "}\n",
    "embedding_3 = requests.post(url, headers=headers, json=data_3).json()['data'][0]['embedding']\n",
    "\n",
    "\n",
    "print(type(embedding_1), len(embedding_1))\n",
    "print(compute_cos_sim(embedding_1, embedding_2))\n",
    "print(compute_cos_sim(embedding_1, embedding_3))\n",
    "print(compute_cos_sim(embedding_2, embedding_3))"
   ]
  },
  {
   "cell_type": "code",
   "execution_count": null,
   "metadata": {},
   "outputs": [],
   "source": [
    "# 应该是调用成功了。"
   ]
  },
  {
   "cell_type": "code",
   "execution_count": 13,
   "metadata": {},
   "outputs": [],
   "source": [
    "# api call: function call\n",
    "\n",
    "url = 'https://open.bigmodel.cn/api/paas/v4/chat/completions'\n",
    "headers = {\n",
    "    'Content-Type': 'application/json',\n",
    "    'Authorization': generate_token(KEY, 1000)\n",
    "}"
   ]
  },
  {
   "cell_type": "code",
   "execution_count": 14,
   "metadata": {},
   "outputs": [
    {
     "data": {
      "text/plain": [
       "{'choices': [{'finish_reason': 'stop',\n",
       "   'index': 0,\n",
       "   'message': {'content': \"I'm sorry, but as an AI developed before 2023, I don't have real-time capabilities or access to current data. For the weather in Boston or any other location, I recommend checking a reliable weather website or application, such as The Weather Channel, AccuWeather, or Google Weather. These sources provide up-to-date and accurate weather information.\",\n",
       "    'role': 'assistant'}}],\n",
       " 'created': 1707054727,\n",
       " 'id': '8356090940116252591',\n",
       " 'model': 'glm-3-turbo',\n",
       " 'request_id': '8356090940116252591',\n",
       " 'usage': {'completion_tokens': 82, 'prompt_tokens': 13, 'total_tokens': 95}}"
      ]
     },
     "execution_count": 14,
     "metadata": {},
     "output_type": "execute_result"
    }
   ],
   "source": [
    "data = {\n",
    "    'model': 'glm-3-turbo',\n",
    "    'messages': [\n",
    "        {'role': 'user', 'content': 'What is the weather like in Boston?'}\n",
    "    ],\n",
    "    'functions': [\n",
    "        {\n",
    "            'name': 'get_current_weather',\n",
    "            'description': 'Get the current weather in a given location',\n",
    "            'parameters': {\n",
    "                'type': 'object',\n",
    "                'properties': {\n",
    "                    'location': {\n",
    "                        'type': 'string',\n",
    "                        'description': 'The city and state, e.g. San Francisco, CA'\n",
    "                    },\n",
    "                    'unit': {\n",
    "                        'type': 'string',\n",
    "                        'enum': ['celsius', 'fahrenheit']\n",
    "                    }\n",
    "                },\n",
    "                'required': ['location']\n",
    "            }\n",
    "        }\n",
    "    ]\n",
    "}\n",
    "\n",
    "requests.post(url, headers=headers, json=data).json()"
   ]
  },
  {
   "cell_type": "code",
   "execution_count": null,
   "metadata": {},
   "outputs": [],
   "source": [
    "# 仿照chatgpt的例子写了下，没有成功。看github issue也有人反馈这个问题，表示当前版本的function call并不好用。"
   ]
  }
 ],
 "metadata": {
  "kernelspec": {
   "display_name": "nlp",
   "language": "python",
   "name": "python3"
  },
  "language_info": {
   "codemirror_mode": {
    "name": "ipython",
    "version": 3
   },
   "file_extension": ".py",
   "mimetype": "text/x-python",
   "name": "python",
   "nbconvert_exporter": "python",
   "pygments_lexer": "ipython3",
   "version": "3.10.9"
  },
  "orig_nbformat": 4
 },
 "nbformat": 4,
 "nbformat_minor": 2
}
