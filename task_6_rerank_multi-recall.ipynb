{
 "cells": [
  {
   "cell_type": "code",
   "execution_count": 17,
   "metadata": {},
   "outputs": [],
   "source": [
    "import jieba\n",
    "import pdfplumber\n",
    "import json"
   ]
  },
  {
   "cell_type": "code",
   "execution_count": 18,
   "metadata": {},
   "outputs": [],
   "source": [
    "questions = json.load(open('./questions.json'))"
   ]
  },
  {
   "cell_type": "code",
   "execution_count": 19,
   "metadata": {},
   "outputs": [],
   "source": [
    "pdf = pdfplumber.open('./初赛训练数据集.pdf')"
   ]
  },
  {
   "cell_type": "code",
   "execution_count": 20,
   "metadata": {},
   "outputs": [],
   "source": [
    "pdf_content = []\n",
    "\n",
    "for idx, content in enumerate(pdf.pages):\n",
    "    pdf_content.append(\n",
    "        {\n",
    "            'page_idx': str(idx + 1),\n",
    "            'page_content': content.extract_text()\n",
    "        }\n",
    "    )"
   ]
  },
  {
   "cell_type": "code",
   "execution_count": 21,
   "metadata": {},
   "outputs": [
    {
     "data": {
      "text/plain": [
       "{'page_idx': '190',\n",
       " 'page_content': '驾驶辅助\\n警告！ 停用高级智能驾驶\\n■ 设置的跟车距离间隔较低，可能会导致发生意外情况时来不及反\\n应。\\n■ 您始终有责任始终保持安全的距离和速度，并在必要时及时采取\\n制动措施。\\n说明！\\n□ 跟车距离间隔不是固定距离，与前车之间的实际距离会随车速变\\n化而变化。\\n□ 在湿滑路面行驶时，请选择更大的跟车距离间隔。\\n□ 踩下加速踏板时，车辆将暂时加速；松开加速踏板后，车速将缓\\n慢减速至目标车速。\\n□ 若您开启了“巡航自动限速辅助”功能，系统可以将当前道路限 按下方向盘上的 按键或者踩下制动踏板，暂时停用LynkCo-Pilot功\\n速牌上的限速值自动设定为目标车速。\\n能， 图标变为白色，LynkCo-Pilot进入准备模式。\\n190'}"
      ]
     },
     "execution_count": 21,
     "metadata": {},
     "output_type": "execute_result"
    }
   ],
   "source": [
    "pdf_content[189]"
   ]
  },
  {
   "cell_type": "code",
   "execution_count": 22,
   "metadata": {},
   "outputs": [],
   "source": [
    "import torch\n",
    "import transformers"
   ]
  },
  {
   "cell_type": "code",
   "execution_count": 23,
   "metadata": {},
   "outputs": [],
   "source": [
    "from transformers import  AutoTokenizer, AutoModelForSequenceClassification, AutoModel"
   ]
  },
  {
   "cell_type": "code",
   "execution_count": 24,
   "metadata": {},
   "outputs": [],
   "source": [
    "rerank_tokenizer = AutoTokenizer.from_pretrained('../BAAI/bge-reranker-base/')\n",
    "rerank_model = AutoModelForSequenceClassification.from_pretrained('../BAAI/bge-reranker-base/')"
   ]
  },
  {
   "cell_type": "code",
   "execution_count": 25,
   "metadata": {},
   "outputs": [],
   "source": [
    "embedding_tokenizer = AutoTokenizer.from_pretrained('../BAAI/bge-large-zh-v1.5/')\n",
    "embedding_model = AutoModel.from_pretrained('../BAAI/bge-large-zh-v1.5/')"
   ]
  },
  {
   "cell_type": "code",
   "execution_count": 26,
   "metadata": {},
   "outputs": [],
   "source": [
    "device = torch.device('cuda:0' if torch.cuda.is_available() else 'cpu')"
   ]
  },
  {
   "cell_type": "code",
   "execution_count": 27,
   "metadata": {},
   "outputs": [
    {
     "data": {
      "text/plain": [
       "device(type='cuda', index=0)"
      ]
     },
     "execution_count": 27,
     "metadata": {},
     "output_type": "execute_result"
    }
   ],
   "source": [
    "device"
   ]
  },
  {
   "cell_type": "code",
   "execution_count": 28,
   "metadata": {},
   "outputs": [
    {
     "data": {
      "text/plain": [
       "BertModel(\n",
       "  (embeddings): BertEmbeddings(\n",
       "    (word_embeddings): Embedding(21128, 1024, padding_idx=0)\n",
       "    (position_embeddings): Embedding(512, 1024)\n",
       "    (token_type_embeddings): Embedding(2, 1024)\n",
       "    (LayerNorm): LayerNorm((1024,), eps=1e-12, elementwise_affine=True)\n",
       "    (dropout): Dropout(p=0.1, inplace=False)\n",
       "  )\n",
       "  (encoder): BertEncoder(\n",
       "    (layer): ModuleList(\n",
       "      (0-23): 24 x BertLayer(\n",
       "        (attention): BertAttention(\n",
       "          (self): BertSelfAttention(\n",
       "            (query): Linear(in_features=1024, out_features=1024, bias=True)\n",
       "            (key): Linear(in_features=1024, out_features=1024, bias=True)\n",
       "            (value): Linear(in_features=1024, out_features=1024, bias=True)\n",
       "            (dropout): Dropout(p=0.1, inplace=False)\n",
       "          )\n",
       "          (output): BertSelfOutput(\n",
       "            (dense): Linear(in_features=1024, out_features=1024, bias=True)\n",
       "            (LayerNorm): LayerNorm((1024,), eps=1e-12, elementwise_affine=True)\n",
       "            (dropout): Dropout(p=0.1, inplace=False)\n",
       "          )\n",
       "        )\n",
       "        (intermediate): BertIntermediate(\n",
       "          (dense): Linear(in_features=1024, out_features=4096, bias=True)\n",
       "          (intermediate_act_fn): GELUActivation()\n",
       "        )\n",
       "        (output): BertOutput(\n",
       "          (dense): Linear(in_features=4096, out_features=1024, bias=True)\n",
       "          (LayerNorm): LayerNorm((1024,), eps=1e-12, elementwise_affine=True)\n",
       "          (dropout): Dropout(p=0.1, inplace=False)\n",
       "        )\n",
       "      )\n",
       "    )\n",
       "  )\n",
       "  (pooler): BertPooler(\n",
       "    (dense): Linear(in_features=1024, out_features=1024, bias=True)\n",
       "    (activation): Tanh()\n",
       "  )\n",
       ")"
      ]
     },
     "execution_count": 28,
     "metadata": {},
     "output_type": "execute_result"
    }
   ],
   "source": [
    "rerank_model.to(device)\n",
    "embedding_model.to(device)\n",
    "rerank_model.eval()\n",
    "embedding_model.eval()"
   ]
  },
  {
   "cell_type": "code",
   "execution_count": 29,
   "metadata": {},
   "outputs": [],
   "source": [
    "pdf_content_words = [jieba.lcut(x['page_content']) for x in pdf_content]"
   ]
  },
  {
   "cell_type": "code",
   "execution_count": 30,
   "metadata": {},
   "outputs": [],
   "source": [
    "from rank_bm25 import  BM25Okapi"
   ]
  },
  {
   "cell_type": "code",
   "execution_count": 31,
   "metadata": {},
   "outputs": [],
   "source": [
    "bm25 = BM25Okapi(pdf_content_words)"
   ]
  },
  {
   "cell_type": "code",
   "execution_count": 33,
   "metadata": {},
   "outputs": [
    {
     "data": {
      "text/plain": [
       "torch.Size([301, 1024])"
      ]
     },
     "execution_count": 33,
     "metadata": {},
     "output_type": "execute_result"
    }
   ],
   "source": [
    "questions_embedding = []\n",
    "\n",
    "with torch.no_grad():\n",
    "    for query_idx in range(len(questions)):\n",
    "        encoded_query = embedding_tokenizer(questions[query_idx]['question'], truncation=True, padding=True, return_tensors='pt', max_length=512)\n",
    "        encoded_query = {k: v.cuda() for k, v in encoded_query.items()}\n",
    "        output = embedding_model(**encoded_query)\n",
    "        query_embedding = output[0][:, 0]\n",
    "        questions_embedding.append(query_embedding)\n",
    "\n",
    "questions_embedding = torch.concatenate(questions_embedding)\n",
    "questions_embedding.shape"
   ]
  },
  {
   "cell_type": "code",
   "execution_count": 34,
   "metadata": {},
   "outputs": [],
   "source": [
    "encoded_docs = embedding_tokenizer([x['page_content'] for x in pdf_content], truncation=True, padding=True, return_tensors='pt', max_length=512)   "
   ]
  },
  {
   "cell_type": "code",
   "execution_count": 35,
   "metadata": {},
   "outputs": [],
   "source": [
    "with torch.no_grad():\n",
    "    encoded_docs = {k: v.cuda() for k, v in encoded_docs.items()}\n",
    "    outputs = embedding_model(**encoded_docs)\n",
    "    docs_embedding = outputs[0][:, 0]"
   ]
  },
  {
   "cell_type": "code",
   "execution_count": 38,
   "metadata": {},
   "outputs": [
    {
     "data": {
      "text/plain": [
       "torch.Size([354, 1024])"
      ]
     },
     "execution_count": 38,
     "metadata": {},
     "output_type": "execute_result"
    }
   ],
   "source": [
    "docs_embedding.shape"
   ]
  },
  {
   "cell_type": "code",
   "execution_count": 41,
   "metadata": {},
   "outputs": [],
   "source": [
    "import torch.nn.functional as F\n",
    "\n",
    "query_2_doc_similarity = F.normalize(questions_embedding) @ F.normalize(docs_embedding).T"
   ]
  },
  {
   "cell_type": "code",
   "execution_count": 42,
   "metadata": {},
   "outputs": [
    {
     "data": {
      "text/plain": [
       "torch.Size([301, 354])"
      ]
     },
     "execution_count": 42,
     "metadata": {},
     "output_type": "execute_result"
    }
   ],
   "source": [
    "query_2_doc_similarity.shape"
   ]
  },
  {
   "cell_type": "code",
   "execution_count": 37,
   "metadata": {},
   "outputs": [],
   "source": [
    "torch.cuda.empty_cache() "
   ]
  },
  {
   "cell_type": "code",
   "execution_count": 51,
   "metadata": {},
   "outputs": [],
   "source": [
    "# single recall BM based on tf-idf, add LLM to implement semantic-based recall.\n",
    "\n",
    "\n",
    "import numpy as np\n",
    "\n",
    "for query_idx in range(len(questions)):\n",
    "    lexical_page_scores = bm25.get_scores(jieba.lcut(questions[query_idx]['question']))\n",
    "    lexical_top3_score_page_indexes = lexical_page_scores.argsort()[-3:]\n",
    "\n",
    "    semantic_page_scores = query_2_doc_similarity[query_idx].cpu().numpy()\n",
    "    semantic_top3_score_page_indexes = semantic_page_scores.argsort()[-3:]\n",
    "\n",
    "    candidates = list(set(np.hstack((semantic_top3_score_page_indexes, lexical_top3_score_page_indexes))))\n",
    "    pairs = [[questions[query_idx]['question'], pdf_content[page_idx]['page_content']] for page_idx in candidates]\n",
    "\n",
    "    inputs = rerank_tokenizer(pairs, padding=True, truncation=True, max_length=512, return_tensors='pt')\n",
    "    with torch.no_grad():\n",
    "        inputs = {k: v.to(device) for k, v in inputs.items()}\n",
    "        scores = rerank_model(**inputs, return_dict=True).logits.view(-1, ).float()\n",
    "    \n",
    "    best_match_index = candidates[scores.cpu().numpy().argmax()]\n",
    "    questions[query_idx]['reference'] = 'page_' + str(best_match_index + 1)\n",
    "\n",
    "\n",
    "with open('./submit_5_multi_recall.json', 'w', encoding='utf8') as f:\n",
    "    json.dump(questions, f, ensure_ascii=False, indent=4)\n",
    "\n"
   ]
  },
  {
   "cell_type": "code",
   "execution_count": null,
   "metadata": {},
   "outputs": [],
   "source": []
  }
 ],
 "metadata": {
  "kernelspec": {
   "display_name": "yyk",
   "language": "python",
   "name": "python3"
  },
  "language_info": {
   "codemirror_mode": {
    "name": "ipython",
    "version": 3
   },
   "file_extension": ".py",
   "mimetype": "text/x-python",
   "name": "python",
   "nbconvert_exporter": "python",
   "pygments_lexer": "ipython3",
   "version": "3.12.1"
  },
  "orig_nbformat": 4
 },
 "nbformat": 4,
 "nbformat_minor": 2
}
