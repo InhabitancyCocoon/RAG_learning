{
 "cells": [
  {
   "cell_type": "code",
   "execution_count": 1,
   "metadata": {},
   "outputs": [],
   "source": [
    "import time\n",
    "import jwt\n",
    "import requests\n",
    "from numpy import dot\n",
    "from numpy.linalg import norm\n",
    "\n",
    "\n",
    "KEY = '83e5bc58555d8bac289e27bac50f8afc.Khk1JjCxb8MJN8Mi'\n",
    "\n",
    "# 实际KEY，过期时间\n",
    "\n",
    "\n",
    "def generate_token(apikey: str, exp_seconds: int):\n",
    "    try:\n",
    "        id, secret = apikey.split('.')\n",
    "    except Exception as e:\n",
    "        raise Exception('invalid apikey', e)\n",
    "\n",
    "    payload = {\n",
    "        'api_key': id,\n",
    "        'exp': int(round(time.time() * 1000)) + exp_seconds * 1000,\n",
    "        'timestamp': int(round(time.time() * 1000)),\n",
    "    }\n",
    "    return jwt.encode(\n",
    "        payload,\n",
    "        secret,\n",
    "        algorithm='HS256',\n",
    "        headers={'alg': 'HS256', 'sign_type': 'SIGN'},\n",
    "    )"
   ]
  },
  {
   "cell_type": "code",
   "execution_count": 2,
   "metadata": {},
   "outputs": [],
   "source": [
    "\n",
    "url = 'https://open.bigmodel.cn/api/paas/v4/chat/completions'\n",
    "headers = {\n",
    "    'Content-Type': 'application/json',\n",
    "    'Authorization': generate_token(KEY, 1000)\n",
    "}"
   ]
  },
  {
   "cell_type": "code",
   "execution_count": 3,
   "metadata": {},
   "outputs": [],
   "source": [
    "def ask_glm(content):\n",
    "    url = \"https://open.bigmodel.cn/api/paas/v4/chat/completions\"\n",
    "    headers = {\n",
    "      'Content-Type': 'application/json',\n",
    "      'Authorization': generate_token(KEY, 1000)\n",
    "    }\n",
    "\n",
    "    data = {\n",
    "        \"model\": \"glm-3-turbo\",\n",
    "        \"messages\": [{\"role\": \"user\", \"content\": content}]\n",
    "    }\n",
    "\n",
    "    response = requests.post(url, headers=headers, json=data)\n",
    "    return response.json()"
   ]
  },
  {
   "cell_type": "code",
   "execution_count": 4,
   "metadata": {},
   "outputs": [],
   "source": [
    "import json"
   ]
  },
  {
   "cell_type": "code",
   "execution_count": 5,
   "metadata": {},
   "outputs": [],
   "source": [
    "questions = json.load(open('./questions.json'))"
   ]
  },
  {
   "cell_type": "code",
   "execution_count": 6,
   "metadata": {},
   "outputs": [
    {
     "data": {
      "text/plain": [
       "301"
      ]
     },
     "execution_count": 6,
     "metadata": {},
     "output_type": "execute_result"
    }
   ],
   "source": [
    "len(questions)"
   ]
  },
  {
   "cell_type": "code",
   "execution_count": 10,
   "metadata": {},
   "outputs": [],
   "source": [
    "for i in range(31):\n",
    "    query_content = questions[i]['question']\n",
    "    propmt = '你是一个善解人意的汽车维修专家，请将用户的疑惑修改为含义相近但是不同的句子。用户的疑惑是：{}'\n",
    "    rewrote_query = ask_glm(propmt.format(query_content))['choices'][0]['message']['content']\n",
    "    questions[i]['question'] = rewrote_query"
   ]
  },
  {
   "cell_type": "code",
   "execution_count": 11,
   "metadata": {},
   "outputs": [
    {
     "data": {
      "text/plain": [
       "[{'question': '用户的问题可以这样重新表达：“关于前排座椅的通风功能，能在哪一页找到相关信息？”',\n",
       "  'answer': '',\n",
       "  'reference': ''},\n",
       " {'question': '有关车辆儿童安全座椅的固定设备的信息，我能在哪一部分查到？', 'answer': '', 'reference': ''},\n",
       " {'question': '“前机舱盖的开启方法能在哪页找到？”', 'answer': '', 'reference': ''},\n",
       " {'question': '\"如何进入前机舱盖的操作指南能在哪一页找到？\"', 'answer': '', 'reference': ''},\n",
       " {'question': '\"我想知道如何在行车记录仪视频中找到所需内容，它位于哪一页？\"',\n",
       "  'answer': '',\n",
       "  'reference': ''},\n",
       " {'question': '领克汽车的事件数据记录器（EDR），通常会存储哪些类型的数据？',\n",
       "  'answer': '',\n",
       "  'reference': ''},\n",
       " {'question': '询问：事件数据记录器（EDR）中的信息能否被黑客利用来进行不当攻击？',\n",
       "  'answer': '',\n",
       "  'reference': ''},\n",
       " {'question': '在国家环保法的规定下，有哪些情形下需要将车辆进行报废处理？', 'answer': '', 'reference': ''},\n",
       " {'question': '当一辆车报废后，原车主是否还能享用该车的智能互联功能？', 'answer': '', 'reference': ''},\n",
       " {'question': '如何确保在驾驶前车辆的准备工作完全可靠？', 'answer': '', 'reference': ''},\n",
       " {'question': '当车辆用于装载物品时，车内有哪些空间可以用来储存物品？', 'answer': '', 'reference': ''},\n",
       " {'question': '想了解车辆手套箱的容积大小。', 'answer': '', 'reference': ''},\n",
       " {'question': '如何有效地利用前排的储物空间来增强其实用性？', 'answer': '', 'reference': ''},\n",
       " {'question': '想要知道车辆手套箱的容积大小，应该咨询谁？', 'answer': '', 'reference': ''},\n",
       " {'question': '如何恰当地利用前排座椅背部的储物口袋？', 'answer': '', 'reference': ''},\n",
       " {'question': '当后排中央扶手和杯托已被占用时，驾驶员应该如何放置其饮料？', 'answer': '', 'reference': ''},\n",
       " {'question': '请问我怎样用手机上的验证码来打开手套箱？', 'answer': '', 'reference': ''},\n",
       " {'question': '如果手套箱被锁上了，但您记不起密码，该怎么处理？', 'answer': '', 'reference': ''},\n",
       " {'question': '如何使尾门在自动开闭过程中安全可靠地停止？', 'answer': '', 'reference': ''},\n",
       " {'question': '请问尾门自动开闭系统是如何检测到障碍物的？', 'answer': '', 'reference': ''},\n",
       " {'question': '如何使尾门在关闭过程中确保安全无虞？', 'answer': '', 'reference': ''},\n",
       " {'question': '当尾门在关闭过程中遇到障碍物时，它会有怎样的应对措施？', 'answer': '', 'reference': ''},\n",
       " {'question': '怎样才能确保在电动尾门开启或关闭的过程中避免伤害到人或者撞到障碍物？',\n",
       "  'answer': '',\n",
       "  'reference': ''},\n",
       " {'question': '如果尾门在关闭时遇到障碍物，它将自动停在哪个位置？', 'answer': '', 'reference': ''},\n",
       " {'question': '如何保障在装载物品过程中汽车的安全稳定？', 'answer': '', 'reference': ''},\n",
       " {'question': '想了解这辆正在装货的汽车最多能装多少立方米货物，请问有什么规定或限制吗？',\n",
       "  'answer': '',\n",
       "  'reference': ''},\n",
       " {'question': '请问如何调整遥控钥匙的感应距离，以便实现靠近解锁和远离上锁的功能？',\n",
       "  'answer': '',\n",
       "  'reference': ''},\n",
       " {'question': '如何保证遥控钥匙的使用不会受到外部干扰？', 'answer': '', 'reference': ''},\n",
       " {'question': '请问怎样通过轻触车门把手的内部解锁和闭锁感应区域来控制车辆的锁定功能？',\n",
       "  'answer': '',\n",
       "  'reference': ''},\n",
       " {'question': '如果无线钥匙或蓝牙钥匙不慎遗失或发生故障，车辆还能怎样执行上锁和开锁的程序？',\n",
       "  'answer': '',\n",
       "  'reference': ''},\n",
       " {'question': '如何确保当车辆低速行驶或静止时,乘客能够安全使用开门预警系统?',\n",
       "  'answer': '',\n",
       "  'reference': ''}]"
      ]
     },
     "execution_count": 11,
     "metadata": {},
     "output_type": "execute_result"
    }
   ],
   "source": [
    "questions[:31]"
   ]
  },
  {
   "cell_type": "code",
   "execution_count": 12,
   "metadata": {},
   "outputs": [],
   "source": [
    "for i in range(31, 61):\n",
    "    query_content = questions[i]['question']\n",
    "    propmt = '你是一个善解人意的汽车维修专家，请将用户的疑惑修改为含义相近但是不同的句子。用户的疑惑是：{}'\n",
    "    rewrote_query = ask_glm(propmt.format(query_content))['choices'][0]['message']['content']\n",
    "    questions[i]['question'] = rewrote_query"
   ]
  },
  {
   "cell_type": "code",
   "execution_count": 13,
   "metadata": {},
   "outputs": [
    {
     "data": {
      "text/plain": [
       "[{'question': '主人，您想知道主驾座椅迎宾功能在哪些情况下会自动失效吗？', 'answer': '', 'reference': ''},\n",
       " {'question': '怎样才能验证我的汽车的防盗设备运行得当？', 'answer': '', 'reference': ''},\n",
       " {'question': '驾驶前如何准确设置驾驶员座椅以保障安全与舒适？', 'answer': '', 'reference': ''},\n",
       " {'question': '询问：有什么方法可以保证我在不调整驾驶员座椅的情况下，依然能够正常使用制动踏板和加速踏板？',\n",
       "  'answer': '',\n",
       "  'reference': ''},\n",
       " {'question': '如何恰当地使用座椅位置记忆功能？', 'answer': '', 'reference': ''},\n",
       " {'question': '问题：如果座椅在自动移动的过程中，有人试图手动调节它，会发生什么情况？',\n",
       "  'answer': '',\n",
       "  'reference': ''},\n",
       " {'question': '想了解如何在中央显示屏上进入方向盘设置界面，应该怎么做？', 'answer': '', 'reference': ''},\n",
       " {'question': '想了解如何调整方向盘的高度和倾斜度，应该怎么做？', 'answer': '', 'reference': ''},\n",
       " {'question': '请问如何通过方向盘上的控键重新启用驾驶辅助功能？', 'answer': '', 'reference': ''},\n",
       " {'question': '想请教一下如何更改方向盘的高低位置和倾斜角度？', 'answer': '', 'reference': ''},\n",
       " {'question': '在启动汽车前调整方向盘时，有哪些安全注意事项需要遵守？', 'answer': '', 'reference': ''},\n",
       " {'question': '如果在驾驶时转向柱没有完全锁紧，可能会引起哪些问题？', 'answer': '', 'reference': ''},\n",
       " {'question': '问：什么情况下，胎压监测装置会闪烁并发出警报声？', 'answer': '', 'reference': ''},\n",
       " {'question': '当车辆在行驶途中突然轮胎泄气时，驾驶员应如何执行紧急操作以确保安全行驶？',\n",
       "  'answer': '',\n",
       "  'reference': ''},\n",
       " {'question': '请问如何恰当地使用自动雨刷功能？', 'answer': '', 'reference': ''},\n",
       " {'question': '如果自动雨刷的反应过于敏感，导致在小雨时也会启动，我们应如何调节以降低其对小雨的反应性？',\n",
       "  'answer': '',\n",
       "  'reference': ''},\n",
       " {'question': '如何准确地启用或禁用后雨刮与倒车影像的联动效果？', 'answer': '', 'reference': ''},\n",
       " {'question': '如何确定我的后雨刮和倒车影像的联动功能是否已经被激活？', 'answer': '', 'reference': ''},\n",
       " {'question': '当智能远近光控制功能激活时，哪个灯光标志会被点亮？', 'answer': '', 'reference': ''},\n",
       " {'question': '能否同时启用智能远近光控制与低速行人提示音功能？', 'answer': '', 'reference': ''},\n",
       " {'question': '询问：车辆灯光系统出现问题时，哪些警告灯会亮起？', 'answer': '', 'reference': ''},\n",
       " {'question': '当智能远近光控制系统故障警告灯亮起时，驾驶员应如何操作以确保行车安全？',\n",
       "  'answer': '',\n",
       "  'reference': ''},\n",
       " {'question': '当盲点监测系统发生问题时，车辆应该如何给出提示？', 'answer': '', 'reference': ''},\n",
       " {'question': '当盲点监测系统标定未完成时，盲点监测故障警告灯会怎样亮起？', 'answer': '', 'reference': ''},\n",
       " {'question': '询问：如果汽车的哪个指示灯一直亮着，这意味着车身稳定控制系统可能出现了问题？',\n",
       "  'answer': '',\n",
       "  'reference': ''},\n",
       " {'question': '如果车辆的变速器故障指示灯亮起，但变速器的功能并未受到影响，可能的原因有哪些？',\n",
       "  'answer': '',\n",
       "  'reference': ''},\n",
       " {'question': '有哪些情况可能会触发安全带未系警示灯的点亮？', 'answer': '', 'reference': ''},\n",
       " {'question': '怎样识别安全带系统是否存在问题？', 'answer': '', 'reference': ''},\n",
       " {'question': '想要配置和修改机舱盖/车门/尾门/安全带提示界面的显示方式，应该怎么做？',\n",
       "  'answer': '',\n",
       "  'reference': ''},\n",
       " {'question': '如果组合仪表显示屏上出现红色高亮提示,表明机舱盖/车门/尾门未关闭或安全带未系,那么如何才能消除这个提示?',\n",
       "  'answer': '',\n",
       "  'reference': ''}]"
      ]
     },
     "execution_count": 13,
     "metadata": {},
     "output_type": "execute_result"
    }
   ],
   "source": [
    "questions[31:61]"
   ]
  },
  {
   "cell_type": "code",
   "execution_count": 14,
   "metadata": {},
   "outputs": [],
   "source": [
    "for i in range(61, 91):\n",
    "    query_content = questions[i]['question']\n",
    "    propmt = '你是一个善解人意的汽车维修专家，请将用户的疑惑修改为含义相近但是不同的句子。用户的疑惑是：{}'\n",
    "    rewrote_query = ask_glm(propmt.format(query_content))['choices'][0]['message']['content']\n",
    "    questions[i]['question'] = rewrote_query"
   ]
  },
  {
   "cell_type": "code",
   "execution_count": 15,
   "metadata": {},
   "outputs": [
    {
     "data": {
      "text/plain": [
       "[{'question': '怎样在组合仪表的设置里修改远近光灯的配置？', 'answer': '', 'reference': ''},\n",
       " {'question': '如何在行驶途中迅速更换远光和转向灯？', 'answer': '', 'reference': ''},\n",
       " {'question': '如何保证车辆的前大灯可以根据需要自动开启或关闭，以及自动雨刮器的功能正常运作？',\n",
       "  'answer': '',\n",
       "  'reference': ''},\n",
       " {'question': '如果雨量传感器或光线传感器受到阻挡，如何保证前大灯的自动开关功能和自动雨刷系统能正常工作？',\n",
       "  'answer': '',\n",
       "  'reference': ''},\n",
       " {'question': '如何保证车辆的大灯随动转向功能在需要时正常运作？', 'answer': '', 'reference': ''},\n",
       " {'question': '大灯随动转向功能会在什么情况下自动停止运作？', 'answer': '', 'reference': ''},\n",
       " {'question': '请问如何操控左前阅读灯的开关？', 'answer': '', 'reference': ''},\n",
       " {'question': '如何配置门控灯的功能？', 'answer': '', 'reference': ''},\n",
       " {'question': '您可以教导我如何调节汽车内部照明的亮度吗？', 'answer': '', 'reference': ''},\n",
       " {'question': '车主想了解如何更改汽车仪表盘的亮度设置。', 'answer': '', 'reference': ''},\n",
       " {'question': '怎样修改车内氛围灯的亮度和变化模式？', 'answer': '', 'reference': ''},\n",
       " {'question': '如何更改车内氛围灯的颜色与亮度设置？', 'answer': '', 'reference': ''},\n",
       " {'question': '怎样调整氛围灯的色彩设定？', 'answer': '', 'reference': ''},\n",
       " {'question': '请问车辆的多种氛围灯效果是否可以通过远程操作来控制？', 'answer': '', 'reference': ''},\n",
       " {'question': '汽车仪表和灯光系统由哪些组成部分构成呢？', 'answer': '', 'reference': ''},\n",
       " {'question': '想调整汽车仪表盘的亮度，应该怎么做？', 'answer': '', 'reference': ''},\n",
       " {'question': '怎样恰当地清洗和保养汽车安全带，以确保其优良性能？', 'answer': '', 'reference': ''},\n",
       " {'question': '怎样才能确认安全带的锁舌已经正确地卡入锁扣之中？', 'answer': '', 'reference': ''},\n",
       " {'question': '孕妇驾车时，为了减少受伤的可能性，应该实施哪些预防措施？', 'answer': '', 'reference': ''},\n",
       " {'question': '如果您在怀孕期间驾车或乘坐汽车，而安全气囊未能正常展开，可能会对您和您腹中的宝宝造成什么样的危害？',\n",
       "  'answer': '',\n",
       "  'reference': ''},\n",
       " {'question': '安全气囊在哪些特定情况下可能不会启动？', 'answer': '', 'reference': ''},\n",
       " {'question': '在那种情况下，如果安全气囊没有展开，车辆内的乘客可能会受到多大的伤害？',\n",
       "  'answer': '',\n",
       "  'reference': ''},\n",
       " {'question': '远端安全气囊一般在哪些情况下会展开？', 'answer': '', 'reference': ''},\n",
       " {'question': '当车辆遭受侧面碰撞时，远端安全气囊展开持续的时间是多久？', 'answer': '', 'reference': ''},\n",
       " {'question': '您想知道如何在中央显示屏上配置车窗和遮阳帘的功能，对吗？', 'answer': '', 'reference': ''},\n",
       " {'question': '想要在驾车时只关闭驾驶员侧的车窗，需要怎样进行操作？', 'answer': '', 'reference': ''},\n",
       " {'question': '全景天窗自动滑动打开可能出现在哪些情况下？', 'answer': '', 'reference': ''},\n",
       " {'question': '如果全景天窗和遮阳帘都打开了，想关闭它们，需要遵循哪些步骤？', 'answer': '', 'reference': ''},\n",
       " {'question': '怎样才能保证孩子在汽车里的安全？', 'answer': '', 'reference': ''},\n",
       " {'question': '如果车辆的天窗自动开闭功能和防夹持功能出现故障，司机应如何操作以确保行车安全？',\n",
       "  'answer': '',\n",
       "  'reference': ''}]"
      ]
     },
     "execution_count": 15,
     "metadata": {},
     "output_type": "execute_result"
    }
   ],
   "source": [
    "questions[61:91]"
   ]
  },
  {
   "cell_type": "code",
   "execution_count": 16,
   "metadata": {},
   "outputs": [],
   "source": [
    "for i in range(91, 121):\n",
    "    query_content = questions[i]['question']\n",
    "    propmt = '你是一个善解人意的汽车维修专家，请将用户的疑惑修改为含义相近但是不同的句子。用户的疑惑是：{}'\n",
    "    rewrote_query = ask_glm(propmt.format(query_content))['choices'][0]['message']['content']\n",
    "    questions[i]['question'] = rewrote_query"
   ]
  },
  {
   "cell_type": "code",
   "execution_count": 17,
   "metadata": {},
   "outputs": [],
   "source": [
    "for i in range(121, 161):\n",
    "    query_content = questions[i]['question']\n",
    "    propmt = '你是一个善解人意的汽车维修专家，请将用户的疑惑修改为含义相近但是不同的句子。用户的疑惑是：{}'\n",
    "    rewrote_query = ask_glm(propmt.format(query_content))['choices'][0]['message']['content']\n",
    "    questions[i]['question'] = rewrote_query"
   ]
  },
  {
   "cell_type": "code",
   "execution_count": 18,
   "metadata": {},
   "outputs": [],
   "source": [
    "for i in range(161, 201):\n",
    "    query_content = questions[i]['question']\n",
    "    propmt = '你是一个善解人意的汽车维修专家，请将用户的疑惑修改为含义相近但是不同的句子。用户的疑惑是：{}'\n",
    "    rewrote_query = ask_glm(propmt.format(query_content))['choices'][0]['message']['content']\n",
    "    questions[i]['question'] = rewrote_query"
   ]
  },
  {
   "cell_type": "code",
   "execution_count": 19,
   "metadata": {},
   "outputs": [],
   "source": [
    "for i in range(201, 241):\n",
    "    query_content = questions[i]['question']\n",
    "    propmt = '你是一个善解人意的汽车维修专家，请将用户的疑惑修改为含义相近但是不同的句子。用户的疑惑是：{}'\n",
    "    rewrote_query = ask_glm(propmt.format(query_content))['choices'][0]['message']['content']\n",
    "    questions[i]['question'] = rewrote_query"
   ]
  },
  {
   "cell_type": "code",
   "execution_count": 20,
   "metadata": {},
   "outputs": [],
   "source": [
    "for i in range(241, 271):\n",
    "    query_content = questions[i]['question']\n",
    "    propmt = '你是一个善解人意的汽车维修专家，请将用户的疑惑修改为含义相近但是不同的句子。用户的疑惑是：{}'\n",
    "    rewrote_query = ask_glm(propmt.format(query_content))['choices'][0]['message']['content']\n",
    "    questions[i]['question'] = rewrote_query"
   ]
  },
  {
   "cell_type": "code",
   "execution_count": 21,
   "metadata": {},
   "outputs": [],
   "source": [
    "for i in range(271, 301):\n",
    "    query_content = questions[i]['question']\n",
    "    propmt = '你是一个善解人意的汽车维修专家，请将用户的疑惑修改为含义相近但是不同的句子。用户的疑惑是：{}'\n",
    "    rewrote_query = ask_glm(propmt.format(query_content))['choices'][0]['message']['content']\n",
    "    questions[i]['question'] = rewrote_query"
   ]
  },
  {
   "cell_type": "code",
   "execution_count": 23,
   "metadata": {},
   "outputs": [],
   "source": [
    "with open('./rewritten_questions.json', 'w', encoding='utf8') as f:\n",
    "    json.dump(questions, f, indent=4, ensure_ascii=False)"
   ]
  },
  {
   "cell_type": "code",
   "execution_count": null,
   "metadata": {},
   "outputs": [],
   "source": [
    "# 本次的questions感觉都很清晰明白，使用大模型重写扩展效果不是很好。根据美团技术团队的博文，查询重写的主要方法有4类：基于搜索日志，基于翻译思想，基于图计算，基于embedding。"
   ]
  }
 ],
 "metadata": {
  "kernelspec": {
   "display_name": "yyk",
   "language": "python",
   "name": "python3"
  },
  "language_info": {
   "codemirror_mode": {
    "name": "ipython",
    "version": 3
   },
   "file_extension": ".py",
   "mimetype": "text/x-python",
   "name": "python",
   "nbconvert_exporter": "python",
   "pygments_lexer": "ipython3",
   "version": "3.12.1"
  },
  "orig_nbformat": 4
 },
 "nbformat": 4,
 "nbformat_minor": 2
}
