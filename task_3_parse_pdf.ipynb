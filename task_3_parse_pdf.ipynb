{
 "cells": [
  {
   "cell_type": "code",
   "execution_count": 1,
   "metadata": {},
   "outputs": [],
   "source": [
    "import pdfplumber\n",
    "import json"
   ]
  },
  {
   "cell_type": "code",
   "execution_count": 3,
   "metadata": {},
   "outputs": [],
   "source": [
    "question = json.load(open('./questions.json'))"
   ]
  },
  {
   "cell_type": "code",
   "execution_count": 5,
   "metadata": {},
   "outputs": [
    {
     "data": {
      "text/plain": [
       "{'question': '“前排座椅通风”的相关内容在第几页？', 'answer': '', 'reference': ''}"
      ]
     },
     "execution_count": 5,
     "metadata": {},
     "output_type": "execute_result"
    }
   ],
   "source": [
    "question[0]"
   ]
  },
  {
   "cell_type": "code",
   "execution_count": 6,
   "metadata": {},
   "outputs": [],
   "source": [
    "pdf = pdfplumber.open('./初赛训练数据集.pdf')"
   ]
  },
  {
   "cell_type": "code",
   "execution_count": 8,
   "metadata": {},
   "outputs": [
    {
     "data": {
      "text/plain": [
       "354"
      ]
     },
     "execution_count": 8,
     "metadata": {},
     "output_type": "execute_result"
    }
   ],
   "source": [
    "len(pdf.pages)"
   ]
  },
  {
   "cell_type": "code",
   "execution_count": 12,
   "metadata": {},
   "outputs": [
    {
     "data": {
      "text/plain": [
       "'装载货物\\n前排储物空间 副仪表台\\n■ 遮阳板上的卡片/票据夹。 01无线充电板/置物板\\n■ 手套箱。\\n02杯托\\n■ 车门存储空间。\\n■ 眼镜盒。 03储物箱\\n■ 前副仪表台。\\n■ 前排中央扶手储物箱。 注意！\\n■ 前副仪表台侧网兜。 ■ 切勿强行将尺寸不合适的容器卡入杯托。\\n22'"
      ]
     },
     "execution_count": 12,
     "metadata": {},
     "output_type": "execute_result"
    }
   ],
   "source": [
    "pdf.pages[21].extract_text()"
   ]
  },
  {
   "cell_type": "code",
   "execution_count": 13,
   "metadata": {},
   "outputs": [],
   "source": [
    "pdf_content = []\n",
    "\n",
    "for page_idx, page_content in enumerate(pdf.pages):\n",
    "    pdf_content.append(\n",
    "        {'page': 'page' + str(page_idx + 1), 'content': page_content.extract_text()}\n",
    "    )"
   ]
  },
  {
   "cell_type": "code",
   "execution_count": 14,
   "metadata": {},
   "outputs": [
    {
     "data": {
      "text/plain": [
       "{'page': 'page14',\n",
       " 'content': '前言\\n注意！ 报废车辆前，请联系Lynk&Co领克中心，咨询车辆报废相关事宜。\\n■ 如果您未能及时终止智能互联服务可能会造成不必要的损失。\\n警告！\\n■ 只有经过相关国家机构认证的回收企业才允许报废车辆。\\n动力电池回收 ■ 报废处理时必须遵守有关的安全条例与法律法规。\\n切勿出售、转让或改装动力电池。应由Lynk&Co领克授权的机构回收\\n报废的动力电池。\\n隐私告知\\n警告！ 您在使用领克车辆提供的相关产品和/或服务时，我们可能会收集和\\n使用您的相关信息。我们深知个人信息对您的重要性，并会尽全力保\\n■ 禁止非法报废或弃置动力电池。 护您的个人信息安全可靠。\\n■ 禁止在本车外使用动力电池或以任何方式对其进行改装。\\n若您希望详细了解我们在您使用相关产品和/或服务时如何收集、使\\n用、存储和保护这些信息，以及我们为您提供的访问、更新、删除和\\n保护这些信息的方式，可以通过中央显示屏应用程序-用户中心-关\\n您可以通过以下途径获取Lynk&Co领克指定授权回收网点的相关信\\n于-用户协议与隐私，查看领克隐私政策（个人信息保护政策）或拨\\n息：\\n打客户服务热线。\\n■ 登录网站：http://www.lynkco.com\\n说明！\\n□ 您可以在Lynk&Co领克指定的授权回收网点了解动力电池回收的\\n相关信息。\\n车辆报废\\n按照国家环保法要求，达到使用年限或不能满足道路使用条件的车辆\\n应按国家环保法规要求进行报废处理。\\n14'}"
      ]
     },
     "execution_count": 14,
     "metadata": {},
     "output_type": "execute_result"
    }
   ],
   "source": [
    "pdf_content[13]"
   ]
  },
  {
   "cell_type": "code",
   "execution_count": null,
   "metadata": {},
   "outputs": [],
   "source": []
  }
 ],
 "metadata": {
  "kernelspec": {
   "display_name": "nlp",
   "language": "python",
   "name": "python3"
  },
  "language_info": {
   "codemirror_mode": {
    "name": "ipython",
    "version": 3
   },
   "file_extension": ".py",
   "mimetype": "text/x-python",
   "name": "python",
   "nbconvert_exporter": "python",
   "pygments_lexer": "ipython3",
   "version": "3.11.4"
  },
  "orig_nbformat": 4
 },
 "nbformat": 4,
 "nbformat_minor": 2
}
